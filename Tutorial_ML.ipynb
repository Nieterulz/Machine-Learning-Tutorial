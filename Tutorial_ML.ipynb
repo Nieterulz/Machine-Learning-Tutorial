{
  "nbformat": 4,
  "nbformat_minor": 0,
  "metadata": {
    "colab": {
      "name": "Tutorial-ML.ipynb",
      "version": "0.3.2",
      "provenance": [],
      "collapsed_sections": []
    },
    "kernelspec": {
      "name": "python3",
      "display_name": "Python 3"
    }
  },
  "cells": [
    {
      "cell_type": "markdown",
      "metadata": {
        "id": "HRppqmiWwpmG",
        "colab_type": "text"
      },
      "source": [
        "# Machine Learning Tutorial\n",
        "In this tutorial we are going to see how to solve a problem using **Machine Learning**. \n",
        "\n",
        "The problem we are going to solve is to predict what is the price of some houses.\n",
        "## Models\n",
        "\n",
        "We need to apply a model to our data and it will returns the price of the houses. The first model we are going to see is the **Decision Tree**.\n",
        "\n",
        "The Decision Trees are not the models that gives more accurate predictions, but they are easy to understand and they are the basic building block for some of the most used models.\n",
        "\n",
        "![](http://i.imgur.com/R3ywQsR.png)\n",
        "\n",
        "In the picture we can see a Decision Tree which uses two **features** and can return four different **outputs** (prices). The features are the data which we are going to use to give an output, these are in the leafs. In this model, the features we are using are:\n",
        "\n",
        "\n",
        "*   Number of bedrooms\n",
        "*   Lot size\n",
        "\n",
        "This isn't the decision tree that we are going to use later but alldecision trees works in the same way. \n",
        "\n",
        "## Data exploration\n",
        "One of the hardest things in machine learning problems is to choose which are good features. Intuitively you could know if some features are not necessary for your prediction. For example if a feature is the area of the houses, we could say that this would be a interesting feature to predict the price. But, if a feature is the name of the last owner, we could say that it isn't necessary to make our predictions.\n",
        "\n",
        "We always need to see our data and understand it. \n",
        "\n",
        "In python we can load, see and modify the data using *pandas*. \n"
      ]
    },
    {
      "cell_type": "code",
      "metadata": {
        "id": "kLq0cvmzzqVp",
        "colab_type": "code",
        "outputId": "e741522a-e8e4-4c63-e857-1d373f666172",
        "colab": {
          "base_uri": "https://localhost:8080/",
          "height": 343
        }
      },
      "source": [
        "import pandas as pd # Importing pandas\n",
        "\n",
        "home_data = pd.read_csv('melb_data.csv') # Reading the data. \n",
        "                                    # This method returns a dataframe\n",
        "\n",
        "home_data.head() # We see the features of the 5 first houses"
      ],
      "execution_count": 37,
      "outputs": [
        {
          "output_type": "execute_result",
          "data": {
            "text/html": [
              "<div>\n",
              "<style scoped>\n",
              "    .dataframe tbody tr th:only-of-type {\n",
              "        vertical-align: middle;\n",
              "    }\n",
              "\n",
              "    .dataframe tbody tr th {\n",
              "        vertical-align: top;\n",
              "    }\n",
              "\n",
              "    .dataframe thead th {\n",
              "        text-align: right;\n",
              "    }\n",
              "</style>\n",
              "<table border=\"1\" class=\"dataframe\">\n",
              "  <thead>\n",
              "    <tr style=\"text-align: right;\">\n",
              "      <th></th>\n",
              "      <th>Suburb</th>\n",
              "      <th>Address</th>\n",
              "      <th>Rooms</th>\n",
              "      <th>Type</th>\n",
              "      <th>Price</th>\n",
              "      <th>Method</th>\n",
              "      <th>SellerG</th>\n",
              "      <th>Date</th>\n",
              "      <th>Distance</th>\n",
              "      <th>Postcode</th>\n",
              "      <th>Bedroom2</th>\n",
              "      <th>Bathroom</th>\n",
              "      <th>Car</th>\n",
              "      <th>Landsize</th>\n",
              "      <th>BuildingArea</th>\n",
              "      <th>YearBuilt</th>\n",
              "      <th>CouncilArea</th>\n",
              "      <th>Lattitude</th>\n",
              "      <th>Longtitude</th>\n",
              "      <th>Regionname</th>\n",
              "      <th>Propertycount</th>\n",
              "    </tr>\n",
              "  </thead>\n",
              "  <tbody>\n",
              "    <tr>\n",
              "      <th>0</th>\n",
              "      <td>Abbotsford</td>\n",
              "      <td>85 Turner St</td>\n",
              "      <td>2</td>\n",
              "      <td>h</td>\n",
              "      <td>1480000.0</td>\n",
              "      <td>S</td>\n",
              "      <td>Biggin</td>\n",
              "      <td>3/12/2016</td>\n",
              "      <td>2.5</td>\n",
              "      <td>3067.0</td>\n",
              "      <td>2.0</td>\n",
              "      <td>1.0</td>\n",
              "      <td>1.0</td>\n",
              "      <td>202.0</td>\n",
              "      <td>NaN</td>\n",
              "      <td>NaN</td>\n",
              "      <td>Yarra</td>\n",
              "      <td>-37.7996</td>\n",
              "      <td>144.9984</td>\n",
              "      <td>Northern Metropolitan</td>\n",
              "      <td>4019.0</td>\n",
              "    </tr>\n",
              "    <tr>\n",
              "      <th>1</th>\n",
              "      <td>Abbotsford</td>\n",
              "      <td>25 Bloomburg St</td>\n",
              "      <td>2</td>\n",
              "      <td>h</td>\n",
              "      <td>1035000.0</td>\n",
              "      <td>S</td>\n",
              "      <td>Biggin</td>\n",
              "      <td>4/02/2016</td>\n",
              "      <td>2.5</td>\n",
              "      <td>3067.0</td>\n",
              "      <td>2.0</td>\n",
              "      <td>1.0</td>\n",
              "      <td>0.0</td>\n",
              "      <td>156.0</td>\n",
              "      <td>79.0</td>\n",
              "      <td>1900.0</td>\n",
              "      <td>Yarra</td>\n",
              "      <td>-37.8079</td>\n",
              "      <td>144.9934</td>\n",
              "      <td>Northern Metropolitan</td>\n",
              "      <td>4019.0</td>\n",
              "    </tr>\n",
              "    <tr>\n",
              "      <th>2</th>\n",
              "      <td>Abbotsford</td>\n",
              "      <td>5 Charles St</td>\n",
              "      <td>3</td>\n",
              "      <td>h</td>\n",
              "      <td>1465000.0</td>\n",
              "      <td>SP</td>\n",
              "      <td>Biggin</td>\n",
              "      <td>4/03/2017</td>\n",
              "      <td>2.5</td>\n",
              "      <td>3067.0</td>\n",
              "      <td>3.0</td>\n",
              "      <td>2.0</td>\n",
              "      <td>0.0</td>\n",
              "      <td>134.0</td>\n",
              "      <td>150.0</td>\n",
              "      <td>1900.0</td>\n",
              "      <td>Yarra</td>\n",
              "      <td>-37.8093</td>\n",
              "      <td>144.9944</td>\n",
              "      <td>Northern Metropolitan</td>\n",
              "      <td>4019.0</td>\n",
              "    </tr>\n",
              "    <tr>\n",
              "      <th>3</th>\n",
              "      <td>Abbotsford</td>\n",
              "      <td>40 Federation La</td>\n",
              "      <td>3</td>\n",
              "      <td>h</td>\n",
              "      <td>850000.0</td>\n",
              "      <td>PI</td>\n",
              "      <td>Biggin</td>\n",
              "      <td>4/03/2017</td>\n",
              "      <td>2.5</td>\n",
              "      <td>3067.0</td>\n",
              "      <td>3.0</td>\n",
              "      <td>2.0</td>\n",
              "      <td>1.0</td>\n",
              "      <td>94.0</td>\n",
              "      <td>NaN</td>\n",
              "      <td>NaN</td>\n",
              "      <td>Yarra</td>\n",
              "      <td>-37.7969</td>\n",
              "      <td>144.9969</td>\n",
              "      <td>Northern Metropolitan</td>\n",
              "      <td>4019.0</td>\n",
              "    </tr>\n",
              "    <tr>\n",
              "      <th>4</th>\n",
              "      <td>Abbotsford</td>\n",
              "      <td>55a Park St</td>\n",
              "      <td>4</td>\n",
              "      <td>h</td>\n",
              "      <td>1600000.0</td>\n",
              "      <td>VB</td>\n",
              "      <td>Nelson</td>\n",
              "      <td>4/06/2016</td>\n",
              "      <td>2.5</td>\n",
              "      <td>3067.0</td>\n",
              "      <td>3.0</td>\n",
              "      <td>1.0</td>\n",
              "      <td>2.0</td>\n",
              "      <td>120.0</td>\n",
              "      <td>142.0</td>\n",
              "      <td>2014.0</td>\n",
              "      <td>Yarra</td>\n",
              "      <td>-37.8072</td>\n",
              "      <td>144.9941</td>\n",
              "      <td>Northern Metropolitan</td>\n",
              "      <td>4019.0</td>\n",
              "    </tr>\n",
              "  </tbody>\n",
              "</table>\n",
              "</div>"
            ],
            "text/plain": [
              "       Suburb           Address  ...             Regionname Propertycount\n",
              "0  Abbotsford      85 Turner St  ...  Northern Metropolitan        4019.0\n",
              "1  Abbotsford   25 Bloomburg St  ...  Northern Metropolitan        4019.0\n",
              "2  Abbotsford      5 Charles St  ...  Northern Metropolitan        4019.0\n",
              "3  Abbotsford  40 Federation La  ...  Northern Metropolitan        4019.0\n",
              "4  Abbotsford       55a Park St  ...  Northern Metropolitan        4019.0\n",
              "\n",
              "[5 rows x 21 columns]"
            ]
          },
          "metadata": {
            "tags": []
          },
          "execution_count": 37
        }
      ]
    },
    {
      "cell_type": "markdown",
      "metadata": {
        "id": "nTaLQyjX23IF",
        "colab_type": "text"
      },
      "source": [
        "*pandas* is an open source, BSD-licensed library providing high performance, easy to use data structures and data analysis tools for the Python programming language.\n",
        "\n",
        "The most important part of the Pandas library is the DataFrame. A DataFrame holds the type of data you might think of as a table. This is similar to a table in a SQL database.\n",
        "\n",
        "To see a summary of your data you can use *describe()* method. This gives you some information about your dataset, so you can get some conclusions easily. \n"
      ]
    },
    {
      "cell_type": "code",
      "metadata": {
        "id": "aifYHqmLjkNw",
        "colab_type": "code",
        "outputId": "b12b6762-d4a7-4cc9-c7dd-5d2c9eca1fc5",
        "colab": {
          "base_uri": "https://localhost:8080/",
          "height": 317
        }
      },
      "source": [
        "home_data.describe()"
      ],
      "execution_count": 38,
      "outputs": [
        {
          "output_type": "execute_result",
          "data": {
            "text/html": [
              "<div>\n",
              "<style scoped>\n",
              "    .dataframe tbody tr th:only-of-type {\n",
              "        vertical-align: middle;\n",
              "    }\n",
              "\n",
              "    .dataframe tbody tr th {\n",
              "        vertical-align: top;\n",
              "    }\n",
              "\n",
              "    .dataframe thead th {\n",
              "        text-align: right;\n",
              "    }\n",
              "</style>\n",
              "<table border=\"1\" class=\"dataframe\">\n",
              "  <thead>\n",
              "    <tr style=\"text-align: right;\">\n",
              "      <th></th>\n",
              "      <th>Rooms</th>\n",
              "      <th>Price</th>\n",
              "      <th>Distance</th>\n",
              "      <th>Postcode</th>\n",
              "      <th>Bedroom2</th>\n",
              "      <th>Bathroom</th>\n",
              "      <th>Car</th>\n",
              "      <th>Landsize</th>\n",
              "      <th>BuildingArea</th>\n",
              "      <th>YearBuilt</th>\n",
              "      <th>Lattitude</th>\n",
              "      <th>Longtitude</th>\n",
              "      <th>Propertycount</th>\n",
              "    </tr>\n",
              "  </thead>\n",
              "  <tbody>\n",
              "    <tr>\n",
              "      <th>count</th>\n",
              "      <td>13580.000000</td>\n",
              "      <td>1.358000e+04</td>\n",
              "      <td>13580.000000</td>\n",
              "      <td>13580.000000</td>\n",
              "      <td>13580.000000</td>\n",
              "      <td>13580.000000</td>\n",
              "      <td>13518.000000</td>\n",
              "      <td>13580.000000</td>\n",
              "      <td>7130.000000</td>\n",
              "      <td>8205.000000</td>\n",
              "      <td>13580.000000</td>\n",
              "      <td>13580.000000</td>\n",
              "      <td>13580.000000</td>\n",
              "    </tr>\n",
              "    <tr>\n",
              "      <th>mean</th>\n",
              "      <td>2.937997</td>\n",
              "      <td>1.075684e+06</td>\n",
              "      <td>10.137776</td>\n",
              "      <td>3105.301915</td>\n",
              "      <td>2.914728</td>\n",
              "      <td>1.534242</td>\n",
              "      <td>1.610075</td>\n",
              "      <td>558.416127</td>\n",
              "      <td>151.967650</td>\n",
              "      <td>1964.684217</td>\n",
              "      <td>-37.809203</td>\n",
              "      <td>144.995216</td>\n",
              "      <td>7454.417378</td>\n",
              "    </tr>\n",
              "    <tr>\n",
              "      <th>std</th>\n",
              "      <td>0.955748</td>\n",
              "      <td>6.393107e+05</td>\n",
              "      <td>5.868725</td>\n",
              "      <td>90.676964</td>\n",
              "      <td>0.965921</td>\n",
              "      <td>0.691712</td>\n",
              "      <td>0.962634</td>\n",
              "      <td>3990.669241</td>\n",
              "      <td>541.014538</td>\n",
              "      <td>37.273762</td>\n",
              "      <td>0.079260</td>\n",
              "      <td>0.103916</td>\n",
              "      <td>4378.581772</td>\n",
              "    </tr>\n",
              "    <tr>\n",
              "      <th>min</th>\n",
              "      <td>1.000000</td>\n",
              "      <td>8.500000e+04</td>\n",
              "      <td>0.000000</td>\n",
              "      <td>3000.000000</td>\n",
              "      <td>0.000000</td>\n",
              "      <td>0.000000</td>\n",
              "      <td>0.000000</td>\n",
              "      <td>0.000000</td>\n",
              "      <td>0.000000</td>\n",
              "      <td>1196.000000</td>\n",
              "      <td>-38.182550</td>\n",
              "      <td>144.431810</td>\n",
              "      <td>249.000000</td>\n",
              "    </tr>\n",
              "    <tr>\n",
              "      <th>25%</th>\n",
              "      <td>2.000000</td>\n",
              "      <td>6.500000e+05</td>\n",
              "      <td>6.100000</td>\n",
              "      <td>3044.000000</td>\n",
              "      <td>2.000000</td>\n",
              "      <td>1.000000</td>\n",
              "      <td>1.000000</td>\n",
              "      <td>177.000000</td>\n",
              "      <td>93.000000</td>\n",
              "      <td>1940.000000</td>\n",
              "      <td>-37.856822</td>\n",
              "      <td>144.929600</td>\n",
              "      <td>4380.000000</td>\n",
              "    </tr>\n",
              "    <tr>\n",
              "      <th>50%</th>\n",
              "      <td>3.000000</td>\n",
              "      <td>9.030000e+05</td>\n",
              "      <td>9.200000</td>\n",
              "      <td>3084.000000</td>\n",
              "      <td>3.000000</td>\n",
              "      <td>1.000000</td>\n",
              "      <td>2.000000</td>\n",
              "      <td>440.000000</td>\n",
              "      <td>126.000000</td>\n",
              "      <td>1970.000000</td>\n",
              "      <td>-37.802355</td>\n",
              "      <td>145.000100</td>\n",
              "      <td>6555.000000</td>\n",
              "    </tr>\n",
              "    <tr>\n",
              "      <th>75%</th>\n",
              "      <td>3.000000</td>\n",
              "      <td>1.330000e+06</td>\n",
              "      <td>13.000000</td>\n",
              "      <td>3148.000000</td>\n",
              "      <td>3.000000</td>\n",
              "      <td>2.000000</td>\n",
              "      <td>2.000000</td>\n",
              "      <td>651.000000</td>\n",
              "      <td>174.000000</td>\n",
              "      <td>1999.000000</td>\n",
              "      <td>-37.756400</td>\n",
              "      <td>145.058305</td>\n",
              "      <td>10331.000000</td>\n",
              "    </tr>\n",
              "    <tr>\n",
              "      <th>max</th>\n",
              "      <td>10.000000</td>\n",
              "      <td>9.000000e+06</td>\n",
              "      <td>48.100000</td>\n",
              "      <td>3977.000000</td>\n",
              "      <td>20.000000</td>\n",
              "      <td>8.000000</td>\n",
              "      <td>10.000000</td>\n",
              "      <td>433014.000000</td>\n",
              "      <td>44515.000000</td>\n",
              "      <td>2018.000000</td>\n",
              "      <td>-37.408530</td>\n",
              "      <td>145.526350</td>\n",
              "      <td>21650.000000</td>\n",
              "    </tr>\n",
              "  </tbody>\n",
              "</table>\n",
              "</div>"
            ],
            "text/plain": [
              "              Rooms         Price  ...    Longtitude  Propertycount\n",
              "count  13580.000000  1.358000e+04  ...  13580.000000   13580.000000\n",
              "mean       2.937997  1.075684e+06  ...    144.995216    7454.417378\n",
              "std        0.955748  6.393107e+05  ...      0.103916    4378.581772\n",
              "min        1.000000  8.500000e+04  ...    144.431810     249.000000\n",
              "25%        2.000000  6.500000e+05  ...    144.929600    4380.000000\n",
              "50%        3.000000  9.030000e+05  ...    145.000100    6555.000000\n",
              "75%        3.000000  1.330000e+06  ...    145.058305   10331.000000\n",
              "max       10.000000  9.000000e+06  ...    145.526350   21650.000000\n",
              "\n",
              "[8 rows x 13 columns]"
            ]
          },
          "metadata": {
            "tags": []
          },
          "execution_count": 38
        }
      ]
    },
    {
      "cell_type": "markdown",
      "metadata": {
        "id": "e3s8YIe7luWz",
        "colab_type": "text"
      },
      "source": [
        "For example, the **count**, shows how many rows have non-missing values.\n",
        "\n",
        "Then, if we see that in a feature, **count** is lower than the ohers, we will know that this feature has missing values, so we need to give some values to those missing values, if we want to use the feature in our model.\n",
        "\n",
        "To learn more about pandas see https://pandas.pydata.org/pandas-docs/stable/reference/index.html\n",
        "\n",
        "## Choosing input/output\n",
        "Now, we are going to build a model (Decision tree) and we will fit it to our data.\n",
        "\n",
        "To display the features of the database we use *columns* "
      ]
    },
    {
      "cell_type": "code",
      "metadata": {
        "id": "WnOo2spCpdC8",
        "colab_type": "code",
        "outputId": "57824d66-6105-449b-ec8f-47f593942d0e",
        "colab": {
          "base_uri": "https://localhost:8080/",
          "height": 102
        }
      },
      "source": [
        "import pandas as pd\n",
        "\n",
        "home_data = pd.read_csv('melb_data.csv')\n",
        "\n",
        "home_data.columns"
      ],
      "execution_count": 39,
      "outputs": [
        {
          "output_type": "execute_result",
          "data": {
            "text/plain": [
              "Index(['Suburb', 'Address', 'Rooms', 'Type', 'Price', 'Method', 'SellerG',\n",
              "       'Date', 'Distance', 'Postcode', 'Bedroom2', 'Bathroom', 'Car',\n",
              "       'Landsize', 'BuildingArea', 'YearBuilt', 'CouncilArea', 'Lattitude',\n",
              "       'Longtitude', 'Regionname', 'Propertycount'],\n",
              "      dtype='object')"
            ]
          },
          "metadata": {
            "tags": []
          },
          "execution_count": 39
        }
      ]
    },
    {
      "cell_type": "markdown",
      "metadata": {
        "id": "ES0pzOJBaTAw",
        "colab_type": "text"
      },
      "source": [
        "On every database we need to check if there exist missing values and do something to work with those features. We can delete the rows that have a missing value, give a null value or give the mean value for that feature. We are going to apply the simplest option for now, we will drop houses from our data."
      ]
    },
    {
      "cell_type": "code",
      "metadata": {
        "id": "eKOawzAtpuBC",
        "colab_type": "code",
        "outputId": "6070ff4d-178f-46ec-a4db-f80698a8c9c5",
        "colab": {
          "base_uri": "https://localhost:8080/",
          "height": 51
        }
      },
      "source": [
        "print(\"Number of houses before the drop:\", len(home_data))\n",
        "new_data = home_data.dropna(axis=0)\n",
        "print(\"Number of houses after the drop:\", len(new_data))"
      ],
      "execution_count": 40,
      "outputs": [
        {
          "output_type": "stream",
          "text": [
            "Number of houses before the drop: 13580\n",
            "Number of houses after the drop: 6196\n"
          ],
          "name": "stdout"
        }
      ]
    },
    {
      "cell_type": "markdown",
      "metadata": {
        "id": "o7SVoQz-dUqg",
        "colab_type": "text"
      },
      "source": [
        "As we can see, we lose the half of the information (this is the worst option but the easiest), but we are going to continue with that.\n",
        "\n",
        "Now, we are going to select the prediction target, and the features we are going to use.\n",
        "\n",
        "To select our prediction target (output), we will use dot notation. This pull out the variable selected from the database.\n"
      ]
    },
    {
      "cell_type": "code",
      "metadata": {
        "id": "tu5bn2hmeo_r",
        "colab_type": "code",
        "colab": {}
      },
      "source": [
        "y = new_data.Price"
      ],
      "execution_count": 0,
      "outputs": []
    },
    {
      "cell_type": "markdown",
      "metadata": {
        "id": "1aGANbp5fu5n",
        "colab_type": "text"
      },
      "source": [
        "Now we will select the features. In this case we are going to select some features, but in other problems you should take all the features except the prediction target."
      ]
    },
    {
      "cell_type": "code",
      "metadata": {
        "id": "rMhuPD6xgRTW",
        "colab_type": "code",
        "colab": {}
      },
      "source": [
        "x = new_data[['Rooms', 'Bathroom', 'Landsize', 'Lattitude', 'Longtitude']]"
      ],
      "execution_count": 0,
      "outputs": []
    },
    {
      "cell_type": "markdown",
      "metadata": {
        "id": "aT8nmFaLg9uP",
        "colab_type": "text"
      },
      "source": [
        "## Building the model\n",
        "As we said before, the model we are going to use is a decision tree. In *sklearn* library there exist a lot of different models. "
      ]
    },
    {
      "cell_type": "code",
      "metadata": {
        "id": "2d3VsSRFhpwl",
        "colab_type": "code",
        "colab": {}
      },
      "source": [
        "from sklearn.tree import DecisionTreeRegressor\n",
        "\n",
        "# 1) Build the model\n",
        "myModel = DecisionTreeRegressor(random_state=1) # random_state ensure that in each run we will get the same results\n",
        "\n",
        "# 2) Fit the model\n",
        "myModel.fit(x, y)\n",
        "\n",
        "# 3) Make predictions\n",
        "y_predict = myModel.predict(x)"
      ],
      "execution_count": 0,
      "outputs": []
    },
    {
      "cell_type": "markdown",
      "metadata": {
        "id": "2xFGlRZWuNbB",
        "colab_type": "text"
      },
      "source": [
        "We have built a model and we have predicted the prices of the houses, but we don't really know how good is our model. To measure the quality of our model we can use **Mean Absolute Error**, that is \n",
        "\n",
        "```\n",
        "error = actual - predicted\n",
        "```\n",
        "To do this in python we can use this method from sklearn library:"
      ]
    },
    {
      "cell_type": "code",
      "metadata": {
        "id": "yoW1HI7Vye_A",
        "colab_type": "code",
        "outputId": "4f7ad368-18eb-4927-9944-87a6d099a7ec",
        "colab": {
          "base_uri": "https://localhost:8080/",
          "height": 34
        }
      },
      "source": [
        "from sklearn.metrics import mean_absolute_error\n",
        "\n",
        "print(\"The Mean Absolute Error is\", mean_absolute_error(y, y_predict))\n",
        "\n"
      ],
      "execution_count": 44,
      "outputs": [
        {
          "output_type": "stream",
          "text": [
            "The Mean Absolute Error is 1115.7467183128902\n"
          ],
          "name": "stdout"
        }
      ]
    },
    {
      "cell_type": "markdown",
      "metadata": {
        "id": "GxsGUMH2z1wr",
        "colab_type": "text"
      },
      "source": [
        "You could think that your model works nicely, because you have only failed at 1115.7467$ predicting the prices of the houses.\n",
        "The score obtained is called *In-sample* score. That is, we have trained (fitting) the model with a dataset and we have evaluate it with the same dataset. \n",
        "\n",
        "## Model validation\n",
        "\n",
        "To measure how good is our model we need to train with a dataset and evaluate it with a different dataset. That is, we need to predict values from data that aren't used in the building of the model. The dataset used in model-building is called train dataset, and the dataset used in the prediction is called validation/test dataset.\n",
        "\n",
        "Using the function **train_test_split()** from the sklearn library you can split your data into training and validation data, for both features and target. By default, this function splits the data like 75% of the data to the training set, and 25% of the data for the validation set.\n",
        "\n"
      ]
    },
    {
      "cell_type": "code",
      "metadata": {
        "id": "X7gQKSc2Z54D",
        "colab_type": "code",
        "colab": {
          "base_uri": "https://localhost:8080/",
          "height": 34
        },
        "outputId": "2971ab2e-5da4-4086-807e-a32863bfdb1b"
      },
      "source": [
        "from sklearn.model_selection import train_test_split\n",
        "\n",
        "x_train, x_test, y_train, y_test = train_test_split(x, y, random_state = 0)\n",
        "\n",
        "myModel = DecisionTreeRegressor()\n",
        "\n",
        "myModel.fit(x_train, y_train)\n",
        "\n",
        "y_predict = myModel.predict(x_test)\n",
        "\n",
        "print(\"The Mean Absolute Error is\", mean_absolute_error(y_test, y_predict))\n"
      ],
      "execution_count": 45,
      "outputs": [
        {
          "output_type": "stream",
          "text": [
            "The Mean Absolute Error is 272732.75037658704\n"
          ],
          "name": "stdout"
        }
      ]
    },
    {
      "cell_type": "markdown",
      "metadata": {
        "id": "PEGU4yAhgthe",
        "colab_type": "text"
      },
      "source": [
        "As we can see the error obtained is so much bigger than the lastone. This mean that our model is not very good to apply it to new data. We can improve this using other models or choosing different features.\n",
        "\n",
        "**Validation** is an important part in machine learning. You can't know how accurate is your model without doing validation. The validation we have applied is called simple validation. There exist others like k-cross validation, one-hold-out, bootstrap...\n",
        "This is the easiest and you can use this on your first problems. Later, you can improve it or use others.\n",
        "\n",
        "## Underfitting  and Overfitting\n",
        "\n",
        "**Overfitting** is a phenomenom that occurs when we fit the model to the train dataset too much. That means that if we try to predict the prices for new houses, the model can't generalize to these new houses giving bad predictions. \n",
        "\n",
        "In the other hand exists **Underfitting**. Underfitting occurs when the model fit too poorly to the training data, giving bad predictions for new data and even for the training dataset.\n",
        "\n",
        "How can this occurs in a Decision Tree?\n",
        "\n",
        "If a decision tree have too much leafs, this means that there are a lot of different prices that the model can give. If we have a decision tree with 1000 leafs  and we train with 1000 houses. The model will fit prefectly to the train dataset, but it will give bad results for new houses.\n",
        "\n",
        "If a decision tree have too few leafs, then we will be splitting the houses in too few groups. So this mean that is poorly fitted to the train dataset.\n",
        "\n",
        "![](http://i.imgur.com/2q85n9s.png)\n",
        "\n",
        "If we make an graphic with that parameters we should get that form. We should try to use the Tree Depth that is in the valley between underfitting and overfitting.\n",
        "\n"
      ]
    },
    {
      "cell_type": "code",
      "metadata": {
        "id": "g2b7QWIxsSnN",
        "colab_type": "code",
        "colab": {}
      },
      "source": [
        "\n",
        "validation = []\n",
        "training = []\n",
        "tree_deph = []\n",
        "\n",
        "for i in range(5, 3005, 100):\n",
        "  myModel = DecisionTreeRegressor(max_leaf_nodes=i)\n",
        "\n",
        "  myModel.fit(x_train, y_train)\n",
        "\n",
        "  y_predict = myModel.predict(x_test)\n",
        "\n",
        "  validation.append(mean_absolute_error(y_test, y_predict))\n",
        "\n",
        "  y_predict = myModel.predict(x_train)\n",
        "\n",
        "  training.append(mean_absolute_error(y_train, y_predict))\n",
        "  tree_deph.append(i)\n",
        "\n"
      ],
      "execution_count": 0,
      "outputs": []
    },
    {
      "cell_type": "code",
      "metadata": {
        "id": "8MFc6JdvwpUT",
        "colab_type": "code",
        "colab": {
          "base_uri": "https://localhost:8080/",
          "height": 283
        },
        "outputId": "b706aa02-0906-4f85-b81b-88f2f9d81955"
      },
      "source": [
        "import matplotlib.pyplot as plt\n",
        "\n",
        "plt.plot(tree_deph, validation, tree_deph, training)\n",
        "plt.xlabel(\"Tree deph\")\n",
        "plt.ylabel(\"Mean Absolute Error\")\n",
        "plt.legend([\"Validation\", \"Training\"])\n",
        "plt.show()"
      ],
      "execution_count": 73,
      "outputs": [
        {
          "output_type": "display_data",
          "data": {
            "image/png": "[encoded data removed]",
            "text/plain": [
              "<Figure size 432x288 with 1 Axes>"
            ]
          },
          "metadata": {
            "tags": []
          }
        }
      ]
    },
    {
      "cell_type": "markdown",
      "metadata": {
        "id": "gRF9GT_pzyhy",
        "colab_type": "text"
      },
      "source": [
        "In the image we can see how the mean absolute error for the training dataset dicrease custom to the tree deph increase. About the MAE in validation we see how at the beginning it is too high and custom to the tree deph increase it decreases, but after this, it increases again until it keep stable."
      ]
    },
    {
      "cell_type": "code",
      "metadata": {
        "id": "j0JzuKrR1OZS",
        "colab_type": "code",
        "colab": {
          "base_uri": "https://localhost:8080/",
          "height": 34
        },
        "outputId": "a123f545-f275-4eff-d413-185ae77749bc"
      },
      "source": [
        "min_index = validation.index(min(validation))\n",
        "print(\"The minimum Mean Absolute Error is got with\", tree_deph[min_index], \"leaf nodes.\")"
      ],
      "execution_count": 85,
      "outputs": [
        {
          "output_type": "stream",
          "text": [
            "The minimum Mean Absolute Error is got with 605 leaf nodes\n"
          ],
          "name": "stdout"
        }
      ]
    },
    {
      "cell_type": "markdown",
      "metadata": {
        "id": "7Vz4nMYm3luh",
        "colab_type": "text"
      },
      "source": [
        "## Your turn \n",
        " \n",
        "Now it's your turn. You have learned something about machine learning and how to handle a problem. You can now improve the model we have built changing parameters or using different features. Yuo can also build another model and compare it with others."
      ]
    }
  ]
}